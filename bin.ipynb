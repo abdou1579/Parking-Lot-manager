{
 "cells": [
  {
   "cell_type": "code",
   "execution_count": 1,
   "metadata": {},
   "outputs": [],
   "source": [
    "import cv2 as cv \n",
    "import numpy as np\n"
   ]
  },
  {
   "cell_type": "code",
   "execution_count": 3,
   "metadata": {},
   "outputs": [
    {
     "name": "stdout",
     "output_type": "stream",
     "text": [
      "112.0\n"
     ]
    },
    {
     "data": {
      "text/plain": [
       "True"
      ]
     },
     "execution_count": 3,
     "metadata": {},
     "output_type": "execute_result"
    }
   ],
   "source": [
    "im = cv.imread(r'C:\\Users\\asus zephyrus\\Desktop\\S1\\plate.jpg')\n",
    "im_gray = cv.cvtColor(im, cv.COLOR_BGR2GRAY)\n",
    "\n",
    "th, im_gray_th_otsu = cv.threshold(im_gray, 128, 192, cv.THRESH_OTSU)\n",
    "\n",
    "print(th)\n",
    "# 117.0\n",
    "\n",
    "cv.imwrite(r'C:\\Users\\asus zephyrus\\Desktop\\S1\\plate1.jpg', im_gray_th_otsu)"
   ]
  }
 ],
 "metadata": {
  "kernelspec": {
   "display_name": "Python 3",
   "language": "python",
   "name": "python3"
  },
  "language_info": {
   "codemirror_mode": {
    "name": "ipython",
    "version": 3
   },
   "file_extension": ".py",
   "mimetype": "text/x-python",
   "name": "python",
   "nbconvert_exporter": "python",
   "pygments_lexer": "ipython3",
   "version": "3.10.4 (tags/v3.10.4:9d38120, Mar 23 2022, 23:13:41) [MSC v.1929 64 bit (AMD64)]"
  },
  "orig_nbformat": 4,
  "vscode": {
   "interpreter": {
    "hash": "e03268e6a6edf64058914c3483354e384bb2ac295c10776263c3aa47ebedfcc9"
   }
  }
 },
 "nbformat": 4,
 "nbformat_minor": 2
}
